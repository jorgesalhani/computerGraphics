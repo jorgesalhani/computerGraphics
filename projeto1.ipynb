{
 "cells": [
  {
   "cell_type": "code",
   "execution_count": 7,
   "metadata": {},
   "outputs": [
    {
     "ename": "ValueError",
     "evalue": "surface mesh face array should have shape (F,D) for some D; shape is (3,)",
     "output_type": "error",
     "traceback": [
      "\u001b[1;31m---------------------------------------------------------------------------\u001b[0m",
      "\u001b[1;31mValueError\u001b[0m                                Traceback (most recent call last)",
      "\u001b[1;32mc:\\Users\\jorge\\Documents\\GithubPessoal\\computerGraphics\\projeto1.ipynb Cell 1\u001b[0m line \u001b[0;36m3\n\u001b[0;32m     <a href='vscode-notebook-cell:/c%3A/Users/jorge/Documents/GithubPessoal/computerGraphics/projeto1.ipynb#W0sZmlsZQ%3D%3D?line=25'>26</a>\u001b[0m \u001b[39m# `faces` is a Fx3 array of indices, or a nested list\u001b[39;00m\n\u001b[0;32m     <a href='vscode-notebook-cell:/c%3A/Users/jorge/Documents/GithubPessoal/computerGraphics/projeto1.ipynb#W0sZmlsZQ%3D%3D?line=26'>27</a>\u001b[0m faces \u001b[39m=\u001b[39m np\u001b[39m.\u001b[39marray(\n\u001b[0;32m     <a href='vscode-notebook-cell:/c%3A/Users/jorge/Documents/GithubPessoal/computerGraphics/projeto1.ipynb#W0sZmlsZQ%3D%3D?line=27'>28</a>\u001b[0m   [\u001b[39m0\u001b[39m,\u001b[39m2\u001b[39m,\u001b[39m1\u001b[39m]\n\u001b[0;32m     <a href='vscode-notebook-cell:/c%3A/Users/jorge/Documents/GithubPessoal/computerGraphics/projeto1.ipynb#W0sZmlsZQ%3D%3D?line=28'>29</a>\u001b[0m )\n\u001b[1;32m---> <a href='vscode-notebook-cell:/c%3A/Users/jorge/Documents/GithubPessoal/computerGraphics/projeto1.ipynb#W0sZmlsZQ%3D%3D?line=29'>30</a>\u001b[0m ps\u001b[39m.\u001b[39;49mregister_surface_mesh(\u001b[39m\"\u001b[39;49m\u001b[39mmy mesh\u001b[39;49m\u001b[39m\"\u001b[39;49m, verts, faces, smooth_shade\u001b[39m=\u001b[39;49m\u001b[39mTrue\u001b[39;49;00m)\n\u001b[0;32m     <a href='vscode-notebook-cell:/c%3A/Users/jorge/Documents/GithubPessoal/computerGraphics/projeto1.ipynb#W0sZmlsZQ%3D%3D?line=31'>32</a>\u001b[0m \u001b[39m# Add a scalar function and a vector function defined on the mesh\u001b[39;00m\n\u001b[0;32m     <a href='vscode-notebook-cell:/c%3A/Users/jorge/Documents/GithubPessoal/computerGraphics/projeto1.ipynb#W0sZmlsZQ%3D%3D?line=32'>33</a>\u001b[0m \u001b[39m# vertex_scalar is a length V numpy array of values\u001b[39;00m\n\u001b[0;32m     <a href='vscode-notebook-cell:/c%3A/Users/jorge/Documents/GithubPessoal/computerGraphics/projeto1.ipynb#W0sZmlsZQ%3D%3D?line=33'>34</a>\u001b[0m vertex_scalar \u001b[39m=\u001b[39m \u001b[39m2\u001b[39m\n",
      "File \u001b[1;32mc:\\Users\\jorge\\AppData\\Local\\Programs\\Python\\Python311\\Lib\\site-packages\\polyscope\\surface_mesh.py:446\u001b[0m, in \u001b[0;36mregister_surface_mesh\u001b[1;34m(name, vertices, faces, enabled, color, edge_color, smooth_shade, edge_width, material, back_face_policy, back_face_color, transparency)\u001b[0m\n\u001b[0;32m    443\u001b[0m \u001b[39mif\u001b[39;00m \u001b[39mnot\u001b[39;00m psb\u001b[39m.\u001b[39misInitialized():\n\u001b[0;32m    444\u001b[0m     \u001b[39mraise\u001b[39;00m \u001b[39mRuntimeError\u001b[39;00m(\u001b[39m\"\u001b[39m\u001b[39mPolyscope has not been initialized\u001b[39m\u001b[39m\"\u001b[39m)\n\u001b[1;32m--> 446\u001b[0m p \u001b[39m=\u001b[39m SurfaceMesh(name, vertices, faces)\n\u001b[0;32m    448\u001b[0m \u001b[39m# == Apply options\u001b[39;00m\n\u001b[0;32m    449\u001b[0m \u001b[39mif\u001b[39;00m enabled \u001b[39mis\u001b[39;00m \u001b[39mnot\u001b[39;00m \u001b[39mNone\u001b[39;00m:\n",
      "File \u001b[1;32mc:\\Users\\jorge\\AppData\\Local\\Programs\\Python\\Python311\\Lib\\site-packages\\polyscope\\surface_mesh.py:26\u001b[0m, in \u001b[0;36mSurfaceMesh.__init__\u001b[1;34m(self, name, vertices, faces, instance)\u001b[0m\n\u001b[0;32m     21\u001b[0m \u001b[39mself\u001b[39m\u001b[39m.\u001b[39mcheck_shape(vertices)\n\u001b[0;32m     23\u001b[0m \u001b[39mif\u001b[39;00m \u001b[39misinstance\u001b[39m(faces, np\u001b[39m.\u001b[39mndarray):\n\u001b[0;32m     24\u001b[0m     \u001b[39m# Faces is a numpy array\u001b[39;00m\n\u001b[1;32m---> 26\u001b[0m     \u001b[39mif\u001b[39;00m (\u001b[39mlen\u001b[39m(faces\u001b[39m.\u001b[39mshape) \u001b[39m!=\u001b[39m \u001b[39m2\u001b[39m): \u001b[39mraise\u001b[39;00m \u001b[39mValueError\u001b[39;00m(\u001b[39m\"\u001b[39m\u001b[39msurface mesh face array should have shape (F,D) for some D; shape is \u001b[39m\u001b[39m\"\u001b[39m \u001b[39m+\u001b[39m \u001b[39mstr\u001b[39m(faces\u001b[39m.\u001b[39mshape))\n\u001b[0;32m     28\u001b[0m     \u001b[39mif\u001b[39;00m vertices\u001b[39m.\u001b[39mshape[\u001b[39m1\u001b[39m] \u001b[39m==\u001b[39m \u001b[39m3\u001b[39m:\n\u001b[0;32m     29\u001b[0m         \u001b[39mself\u001b[39m\u001b[39m.\u001b[39mbound_mesh \u001b[39m=\u001b[39m psb\u001b[39m.\u001b[39mregister_surface_mesh(name, vertices, faces) \n",
      "\u001b[1;31mValueError\u001b[0m: surface mesh face array should have shape (F,D) for some D; shape is (3,)"
     ]
    }
   ],
   "source": [
    "import polyscope as ps\n",
    "import numpy as np\n",
    "\n",
    "# Initialize polyscope\n",
    "ps.init()\n",
    "\n",
    "### Register a point cloud\n",
    "# `my_points` is a Nx3 numpy array\n",
    "my_points = np.array(\n",
    "  [[1,1,1],\n",
    "  [2,2,2],\n",
    "  [3,3,3]\n",
    "])\n",
    "\n",
    "ps.register_point_cloud(\"my points\", my_points)\n",
    "\n",
    "### Register a mesh\n",
    "# `verts` is a Nx3 numpy array of vertex positions\n",
    "verts = np.array(\n",
    "  [[2,2,2],\n",
    "  [3,3,3],\n",
    "  [4,4,4]]\n",
    ")\n",
    "\n",
    "\n",
    "# `faces` is a Fx3 array of indices, or a nested list\n",
    "faces = np.array(\n",
    "  [0,2,1]\n",
    ")\n",
    "ps.register_surface_mesh(\"my mesh\", verts, faces, smooth_shade=True)\n",
    "\n",
    "# Add a scalar function and a vector function defined on the mesh\n",
    "# vertex_scalar is a length V numpy array of values\n",
    "vertex_scalar = 2\n",
    "\n",
    "# face_vectors is an Fx3 array of vectors per face\n",
    "face_vectors = np.array(\n",
    "  [0,2,1]\n",
    ")\n",
    "\n",
    "ps.get_surface_mesh(\"my mesh\").add_scalar_quantity(\"my_scalar\", \n",
    "        vertex_scalar, defined_on='vertices', cmap='blues')\n",
    "ps.get_surface_mesh(\"my mesh\").add_vector_quantity(\"my_vector\", \n",
    "        face_vectors, defined_on='faces', color=(0.2, 0.5, 0.5))\n",
    "\n",
    "# View the point cloud and mesh we just registered in the 3D UI\n",
    "ps.show()"
   ]
  },
  {
   "cell_type": "code",
   "execution_count": null,
   "metadata": {},
   "outputs": [],
   "source": []
  }
 ],
 "metadata": {
  "kernelspec": {
   "display_name": "Python 3",
   "language": "python",
   "name": "python3"
  },
  "language_info": {
   "codemirror_mode": {
    "name": "ipython",
    "version": 3
   },
   "file_extension": ".py",
   "mimetype": "text/x-python",
   "name": "python",
   "nbconvert_exporter": "python",
   "pygments_lexer": "ipython3",
   "version": "3.11.1"
  }
 },
 "nbformat": 4,
 "nbformat_minor": 2
}
