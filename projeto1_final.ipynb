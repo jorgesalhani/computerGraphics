{
 "cells": [
  {
   "cell_type": "code",
   "execution_count": 2,
   "metadata": {},
   "outputs": [],
   "source": [
    "import polyscope as ps\n",
    "import numpy as np\n",
    "ps.init()"
   ]
  },
  {
   "cell_type": "markdown",
   "metadata": {},
   "source": [
    "\n",
    "### Entendendo - Polyscope"
   ]
  },
  {
   "cell_type": "markdown",
   "metadata": {},
   "source": [
    "Vamos primeiro definir três vértices para montarmos uma face triangular\n",
    "\n",
    "Sendo os pontos $v1 = [1, 0, 0]$, $v2 = [0, 1, 0]$, $v3 = [0, 0, 1]$\n",
    "\n",
    "$$\n",
    "\\begin{bmatrix}\n",
    "1 & 0 & 0 \\\\\n",
    "0 & 1 & 0 \\\\\n",
    "0 & 0 & 1 \\\\\n",
    "\\end{bmatrix}\n",
    "$$"
   ]
  },
  {
   "cell_type": "code",
   "execution_count": 3,
   "metadata": {},
   "outputs": [],
   "source": [
    "import polyscope as ps\n",
    "import numpy as np\n",
    "\n",
    "ps.reset_camera_to_home_view()\n",
    "\n",
    "# Definição dos vértices\n",
    "vertices = np.array([\n",
    "  [1.,0.,0.],\n",
    "  [0.,1.,0.],\n",
    "  [0.,0.,1.]\n",
    "])\n",
    "\n",
    "# Definição das faces\n",
    "\"\"\"\n",
    "Cada face é dada por um array de indices\n",
    "No caso [[0,1,2]] temos que existe uma face\n",
    "  cujos vértices são\n",
    "  \n",
    "  indice  vertice\n",
    "  0       [1.,0.,0.]\n",
    "  1       [0.,1.,0.]\n",
    "  2       [0.,0.,1.]\n",
    "\"\"\"\n",
    "faces = np.array([\n",
    "  [0,1,2]\n",
    "])\n",
    "\n",
    "ps_mesh = ps.register_surface_mesh(\"my mesh\", vertices, faces)\n",
    "\n",
    "ps.show()"
   ]
  },
  {
   "cell_type": "markdown",
   "metadata": {},
   "source": [
    "<img src=\"./images_t1/screenshot_000001.png\" alt=\"triangulo\" width=\"400\" height=\"auto\">"
   ]
  },
  {
   "cell_type": "markdown",
   "metadata": {},
   "source": [
    "Operando transformações simples\n",
    "\n",
    "Sabendo que uma matriz de translação (homogênea) é dada por\n",
    "\n",
    "$$\n",
    "T(t_x, t_y, t_z) = \n",
    "\\begin{bmatrix}\n",
    "1 & 0 & 0 & -t_x\\\\\n",
    "0 & 1 & 0 & -t_y\\\\\n",
    "0 & 0 & 1 & -t_z\\\\\n",
    "0 & 0 & 0 & 1\n",
    "\\end{bmatrix}\n",
    "$$\n",
    "\n",
    "Então, para mover nosso triângulo para a posição $t = [0,0,2]$, nosso ponto resultante é\n",
    "\n",
    "$$\n",
    "P' = T(t_x, t_y, t_z)P = \n",
    "\\begin{bmatrix}\n",
    "1 & 0 & 0 & 0\\\\\n",
    "0 & 1 & 0 & 0\\\\\n",
    "0 & 0 & 1 & -2\\\\\n",
    "0 & 0 & 0 & 1\n",
    "\\end{bmatrix}\n",
    "\\begin{bmatrix}\n",
    "1 & 0 & 0 & 1 \\\\\n",
    "0 & 1 & 0 & 1 \\\\\n",
    "0 & 0 & 1 & 1 \\\\\n",
    "0 & 0 & 0 & 1\n",
    "\\end{bmatrix}^T\n",
    "$$\n"
   ]
  },
  {
   "cell_type": "markdown",
   "metadata": {},
   "source": [
    "Esperamos a matriz resultante (homogenea) ser igual a\n",
    "\n",
    "$$\n",
    "\\begin{bmatrix}\n",
    "1 & 0 & 0 & 0 \\\\\n",
    "0 & 1 & 0 & 0 \\\\\n",
    "-2 & -2 & -1 & 0 \\\\\n",
    "1 & 1 & 1 & 1 \\\\\n",
    "\\end{bmatrix}\n",
    "$$"
   ]
  },
  {
   "cell_type": "code",
   "execution_count": 4,
   "metadata": {},
   "outputs": [
    {
     "name": "stdout",
     "output_type": "stream",
     "text": [
      "[[ 1.  0.  0.]\n",
      " [ 0.  1.  0.]\n",
      " [-2. -2. -1.]]\n"
     ]
    }
   ],
   "source": [
    "ps.reset_camera_to_home_view()\n",
    "\n",
    "# Definindo os vertices em coordenadas homogeneas\n",
    "vertices_homog = np.array([\n",
    "  [*vertices[0], 1],\n",
    "  [*vertices[1], 1],\n",
    "  [*vertices[2], 1],\n",
    "  [0,0,0, 1]\n",
    "]).transpose()\n",
    "\n",
    "# Definindo matriz de translação\n",
    "T = np.array([\n",
    "  [1,0,0,0],\n",
    "  [0,1,0,0],\n",
    "  [0,0,1,-2],\n",
    "  [0,0,0,1]\n",
    "])\n",
    "\n",
    "# Multiplicando matrizes\n",
    "novos_vertices = np.matmul(T, vertices_homog)\n",
    "\n",
    "# Eliminando as coordenadas homogêneas para representação\n",
    "novos_vertices = np.array([\n",
    "  [*novos_vertices[0][:-1]],\n",
    "  [*novos_vertices[1][:-1]],\n",
    "  [*novos_vertices[2][:-1]]\n",
    "])\n",
    "\n",
    "print(novos_vertices)\n",
    "\n",
    "ps_mesh = ps.register_surface_mesh(\"my mesh\", novos_vertices, faces)\n",
    "\n",
    "ps.show()"
   ]
  },
  {
   "cell_type": "markdown",
   "metadata": {},
   "source": [
    "<img src=\"./images_t1/screenshot_000003.png\" alt=\"triangulo\" width=\"400\" height=\"auto\">"
   ]
  },
  {
   "cell_type": "markdown",
   "metadata": {},
   "source": [
    "Como movemos apenas a coordenada z, a face foi alterada para que a nova face corresponda a um triangulo diferente"
   ]
  },
  {
   "cell_type": "code",
   "execution_count": 5,
   "metadata": {},
   "outputs": [],
   "source": [
    "# Agora fixando uma posição da câmera\n",
    "\n",
    "ps.set_navigation_style(\"free\")\n",
    "\n",
    "# Vetor de view_up definido na direção de z\n",
    "ps.set_up_dir(\"z_up\")\n",
    "\n",
    "ps.init()\n",
    "\n",
    "\"\"\"\n",
    "Nesse caso, significa que estamos fixando a camera na \n",
    "posição [0,0,1]\n",
    "\n",
    "E a mesma está olhando para a direção do alvo em [0,1,1]\n",
    "\"\"\"\n",
    "ps.look_at(camera_location=(0,0,1), target=(0,1,1))\n",
    "\n",
    "# Definindo um retangulo de modo que\n",
    "#   a câmera olhe para seu centro\n",
    "vertices = np.array([\n",
    "  [1,4,0],\n",
    "  [-1,4,0],\n",
    "  [1,4,1],\n",
    "  [-1,4,1]\n",
    "])\n",
    "\n",
    "faces = np.array([\n",
    "  [0,1,2],\n",
    "  [1,3,2]\n",
    "])\n",
    "\n",
    "ps_mesh = ps.register_surface_mesh(\"my mesh\", vertices, faces)\n",
    "\n",
    "ps.show()"
   ]
  },
  {
   "cell_type": "markdown",
   "metadata": {},
   "source": [
    "<img src=\"./images_t1/screenshot_000004.png\" alt=\"triangulo\" width=\"400\" height=\"auto\">"
   ]
  },
  {
   "cell_type": "code",
   "execution_count": 6,
   "metadata": {},
   "outputs": [],
   "source": [
    "# Se alterarmos os indices das faces, o trio de vertices que\n",
    "#   compõe cada uma não forma um retangulo\n",
    "\n",
    "faces = np.array([\n",
    "  [0,1,2],\n",
    "  [0,1,3]\n",
    "])\n",
    "\n",
    "ps_mesh = ps.register_surface_mesh(\"my mesh\", vertices, faces)\n",
    "\n",
    "ps.show()"
   ]
  },
  {
   "cell_type": "markdown",
   "metadata": {},
   "source": [
    "<img src=\"./images_t1/screenshot_000005.png\" alt=\"triangulo\" width=\"400\" height=\"auto\">"
   ]
  },
  {
   "cell_type": "markdown",
   "metadata": {},
   "source": [
    "#### Aplicando escala\n",
    "\n",
    "Sabemos que a matriz de escala (homogênea) é dada por\n",
    "$$\n",
    "S(s_x,s_y) = \n",
    "\\begin{bmatrix}\n",
    "s_x & 0 & 1 \\\\\n",
    "0 & s_y & 1 \\\\\n",
    "0 & 0 & 1 \\\\\n",
    "\\end{bmatrix}\n",
    "$$\n",
    "\n",
    "Aplicando a transformação sobre os vértices $v1 = [1,4,0]$, $v2 = [-1,4,0]$, $v3 = [1,4,1]$, $v4[-1,4,1]$\n",
    "\n",
    "$$\n",
    "P' = SP =\n",
    "\\begin{bmatrix}\n",
    "s_x & 0 & 0 \\\\\n",
    "0 & s_y & 0 \\\\\n",
    "0 & 0 & 1 \\\\\n",
    "\\end{bmatrix}\n",
    "\\begin{bmatrix}\n",
    "1 & 4 & 0 \\\\\n",
    "-1 & 4 & 0 \\\\\n",
    "1 & 4 & 1 \\\\\n",
    "-1 & 4 & 1\n",
    "\\end{bmatrix}^T\n",
    "$$"
   ]
  },
  {
   "cell_type": "markdown",
   "metadata": {},
   "source": [
    "Para $s_x = s_y = 2$ esperamos o resultado de $P'$ ser igual a\n",
    "\n",
    "$$\n",
    "P' = \\begin{bmatrix}\n",
    "2 & -2 & 2 & -2 \\\\\n",
    "8 & 8 & 8 & 8 \\\\\n",
    "0 & 0 & 1 & 1\n",
    "\\end{bmatrix}\n",
    "$$"
   ]
  },
  {
   "cell_type": "code",
   "execution_count": 7,
   "metadata": {},
   "outputs": [
    {
     "name": "stdout",
     "output_type": "stream",
     "text": [
      "[[ 2  8  0]\n",
      " [-2  8  0]\n",
      " [ 2  8  1]\n",
      " [-2  8  1]]\n"
     ]
    }
   ],
   "source": [
    "# Aplicando escala (sem reajustar sua posição)\n",
    "#  vamos dobrar o tamanho\n",
    "\n",
    "ps.set_navigation_style(\"free\")\n",
    "ps.set_up_dir(\"z_up\")\n",
    "ps.look_at(camera_location=(0,0,1), target=(0,1,1))\n",
    "\n",
    "sx = 2\n",
    "sy = 2\n",
    "S = np.array([\n",
    "  [sx, 0, 0],\n",
    "  [0, sy, 0],\n",
    "  [0, 0, 1],\n",
    "])\n",
    "\n",
    "vertices = np.array([\n",
    "  [1,4,0],\n",
    "  [-1,4,0],\n",
    "  [1,4,1],\n",
    "  [-1,4,1]\n",
    "]).transpose()\n",
    "\n",
    "# Multiplicando matrizes\n",
    "novos_vertices = np.matmul(S, vertices).transpose()\n",
    "\n",
    "print(novos_vertices)\n",
    "\n",
    "# Definindo um retangulo de modo que\n",
    "#   a câmera olhe para seu centro\n",
    "\n",
    "faces = np.array([\n",
    "  [0,1,2],\n",
    "  [0,1,3]\n",
    "])\n",
    "\n",
    "ps_mesh = ps.register_surface_mesh(\"my mesh\", novos_vertices, faces)\n",
    "\n",
    "ps.show()"
   ]
  },
  {
   "cell_type": "markdown",
   "metadata": {},
   "source": [
    "<img src=\"./images_t1/screenshot_000006.png\" alt=\"triangulo\" width=\"400\" height=\"auto\">"
   ]
  },
  {
   "cell_type": "markdown",
   "metadata": {},
   "source": [
    "Como estamos em $x = 0$ e não escalamos $s_z$, a única escala ocorre em $y$"
   ]
  },
  {
   "cell_type": "markdown",
   "metadata": {},
   "source": [
    "#### Aplicando rotação\n",
    "\n",
    "Sabendo que a rotação em torno do eixo $y$ é dada por\n",
    "\n",
    "$$\n",
    "R_y(\\theta) = \n",
    "\\begin{bmatrix}\n",
    "\\cos \\theta & -\\sin \\theta & 0 \\\\\n",
    "0 & 1 & 0 \\\\\n",
    "\\sin \\theta & \\cos \\theta & 1 \\\\\n",
    "\\end{bmatrix}\n",
    "$$"
   ]
  },
  {
   "cell_type": "markdown",
   "metadata": {},
   "source": [
    "Aplicando aos pontos do retângulo uma rotação de 45º ($= \\pi / 4$), $\\cos(\\pi/4) = \\sin(\\pi/4) \\approx 0.707$\n",
    "\n",
    "$$\n",
    "P' = R(\\theta)P =\n",
    "\\begin{bmatrix}\n",
    "0.707 & 0 & -0.707 \\\\\n",
    "0 & 1 & 0 \\\\\n",
    "0.707 & 0 & 0.707 \\\\\n",
    "\\end{bmatrix}\n",
    "\\begin{bmatrix}\n",
    "1 & 4 & 0 \\\\\n",
    "-1 & 4 & 0 \\\\\n",
    "1 & 4 & 1 \\\\\n",
    "-1 & 4 & 1\n",
    "\\end{bmatrix}^T\n",
    "$$"
   ]
  },
  {
   "cell_type": "code",
   "execution_count": 8,
   "metadata": {},
   "outputs": [
    {
     "name": "stdout",
     "output_type": "stream",
     "text": [
      "[[ 0.707  4.     0.707]\n",
      " [-0.707  4.    -0.707]\n",
      " [ 0.     4.     1.414]\n",
      " [-1.414  4.     0.   ]]\n"
     ]
    }
   ],
   "source": [
    "ps.set_navigation_style(\"free\")\n",
    "ps.set_up_dir(\"z_up\")\n",
    "ps.init()\n",
    "ps.look_at(camera_location=(0,0,1), target=(0,1,1))\n",
    "\n",
    "R = np.array([\n",
    "  [0.707, 0, -0.707],\n",
    "  [0, 1, 0],\n",
    "  [0.707, 0, 0.707],\n",
    "])\n",
    "\n",
    "vertices = np.array([\n",
    "  [1,4,0],\n",
    "  [-1,4,0],\n",
    "  [1,4,1],\n",
    "  [-1,4,1]\n",
    "]).transpose()\n",
    "\n",
    "# Multiplicando matrizes\n",
    "novos_vertices = np.matmul(R, vertices).transpose()\n",
    "\n",
    "print(novos_vertices)\n",
    "\n",
    "# Definindo um retangulo de modo que\n",
    "#   a câmera olhe para seu centro\n",
    "\n",
    "faces = np.array([\n",
    "  [0,1,2],\n",
    "  [0,1,3]\n",
    "])\n",
    "\n",
    "ps_mesh = ps.register_surface_mesh(\"my mesh\", novos_vertices, faces)\n",
    "\n",
    "ps.show()"
   ]
  },
  {
   "cell_type": "markdown",
   "metadata": {},
   "source": [
    "Porém rotacionamos em torno do eixo $y = 0$, mas estamos olhando ao longo do eixo $y = 1$"
   ]
  },
  {
   "cell_type": "markdown",
   "metadata": {},
   "source": [
    "<img src=\"./images_t1/screenshot_000009.png\" alt=\"triangulo\" width=\"400\" height=\"auto\">"
   ]
  },
  {
   "cell_type": "markdown",
   "metadata": {},
   "source": [
    "#### Compondo transformações"
   ]
  },
  {
   "cell_type": "markdown",
   "metadata": {},
   "source": [
    "Vamos fazer apenas a rotação ao longo do eixo de visualização para o caso anterior\n",
    "\n",
    "Precisamos da seguinte composição\n",
    "\n",
    "1. transladar objeto para o eixo $y$: ponto $(0,1,0)$\n",
    "2. rotacionar em $\\pi/4$\n",
    "3. transladar objeto de volta para $y = (0,1,1)$"
   ]
  },
  {
   "cell_type": "code",
   "execution_count": 10,
   "metadata": {},
   "outputs": [
    {
     "name": "stdout",
     "output_type": "stream",
     "text": [
      "[[ 0.707  2.     3.707]\n",
      " [-0.707  2.     2.293]\n",
      " [ 0.     2.     4.414]\n",
      " [-1.414  2.     3.   ]]\n"
     ]
    }
   ],
   "source": [
    "ps.set_navigation_style(\"free\")\n",
    "ps.set_up_dir(\"z_up\")\n",
    "ps.look_at(camera_location=(0,0,1), target=(0,1,1))\n",
    "\n",
    "T_volta = np.array([\n",
    "  [1,0,0,0],\n",
    "  [0,1,0,-1],\n",
    "  [0,0,1,-1],\n",
    "  [0,0,0,1],\n",
    "])\n",
    "\n",
    "RT = np.array([\n",
    "  [0.707, 0, -0.707, 0],\n",
    "  [0, 1, 0, -1],\n",
    "  [0.707, 1, 0.707, 0],\n",
    "  [0,0,0,1]\n",
    "])\n",
    "\n",
    "\n",
    "vertices = np.array([\n",
    "  [1,4,0,1],\n",
    "  [-1,4,0,1],\n",
    "  [1,4,1,1],\n",
    "  [-1,4,1,1]\n",
    "]).transpose()\n",
    "\n",
    "# novos_vertices = np.matmul(T_volta, vertices).transpose()\n",
    "\n",
    "# Multiplicando matrizes\n",
    "novos_vertices = np.matmul(T_volta, np.matmul(RT, vertices)).transpose()\n",
    "\n",
    "# Eliminando as coordenadas homogêneas para representação\n",
    "novos_vertices = np.array([\n",
    "  [*novos_vertices[0][:-1]],\n",
    "  [*novos_vertices[1][:-1]],\n",
    "  [*novos_vertices[2][:-1]],\n",
    "  [*novos_vertices[3][:-1]]\n",
    "])\n",
    "print(novos_vertices)\n",
    "\n",
    "# Definindo um retangulo de modo que\n",
    "#   a câmera olhe para seu centro\n",
    "\n",
    "faces = np.array([\n",
    "  [0,1,2],\n",
    "  [0,1,3]\n",
    "])\n",
    "\n",
    "ps_mesh = ps.register_surface_mesh(\"my mesh\", novos_vertices, faces)\n",
    "\n",
    "ps.show()\n"
   ]
  },
  {
   "cell_type": "markdown",
   "metadata": {},
   "source": [
    "<img src=\"./images_t1/screenshot_000010.png\" alt=\"triangulo\" width=\"400\" height=\"auto\">"
   ]
  },
  {
   "cell_type": "markdown",
   "metadata": {},
   "source": [
    "### Entendendo animações"
   ]
  },
  {
   "cell_type": "code",
   "execution_count": 5,
   "metadata": {},
   "outputs": [],
   "source": [
    "def animar_rotacao_y(vertices, angulo):\n",
    "  R = np.array([\n",
    "    [np.cos(angulo), 0, -np.sin(angulo)],\n",
    "    [0, 1, 0],\n",
    "    [np.sin(angulo), 0, -np.cos(angulo)],\n",
    "  ])\n",
    "  resultado = np.matmul(R, vertices.transpose()).transpose()\n",
    "  return resultado"
   ]
  },
  {
   "cell_type": "code",
   "execution_count": 6,
   "metadata": {},
   "outputs": [],
   "source": [
    "def animar_rotacao_y(vertices, angulo):\n",
    "  R = np.array([\n",
    "    [np.cos(angulo), 0, -np.sin(angulo)],\n",
    "    [0, 1, 0],\n",
    "    [np.sin(angulo), 0, np.cos(angulo)],\n",
    "  ])\n",
    "  resultado = np.matmul(R, vertices.transpose()).transpose()\n",
    "  return resultado"
   ]
  },
  {
   "cell_type": "code",
   "execution_count": 7,
   "metadata": {},
   "outputs": [],
   "source": [
    "ps.set_navigation_style(\"free\")\n",
    "ps.set_up_dir(\"z_up\")\n",
    "\n",
    "ps.look_at(camera_location=(0,0,1), target=(0,1,1))\n",
    "\n",
    "def process(vertices, dt):\n",
    "  angulo = dt\n",
    "  vertices = animar_rotacao_y(vertices, angulo)\n",
    "  return vertices\n",
    "\n",
    "\n",
    "def main():\n",
    "  vertices_original = np.array([\n",
    "    [1,4,0],\n",
    "    [-1,4,0],\n",
    "    [1,4,1],\n",
    "    [-1,4,1]\n",
    "  ])\n",
    "\n",
    "  faces = np.array([\n",
    "    [0,1,2],\n",
    "    [1,3,2]\n",
    "  ])\n",
    "\n",
    "  ps_mesh = ps.register_surface_mesh(\"my mesh\", vertices_original, faces)\n",
    "  dt = 0\n",
    "  def callback():\n",
    "    \n",
    "    nonlocal vertices_original, dt\n",
    "    vertices = process(vertices_original, dt)\n",
    "    dt +=  0.01\n",
    "\n",
    "    ps_mesh.update_vertex_positions(vertices)\n",
    "\n",
    "  ps.set_user_callback(callback)\n",
    "  ps.show()\n",
    "main()"
   ]
  },
  {
   "cell_type": "markdown",
   "metadata": {},
   "source": [
    "Animação de rotação ao longo do eixo (0,1,0). Camera em (0,0,1) olhando para (0,1,1)\n",
    "\n",
    "[RETANGULO - GIF](images_t1/video1466083960.gif)\n"
   ]
  },
  {
   "cell_type": "markdown",
   "metadata": {},
   "source": [
    "### Importando malhas: arquivos .obj"
   ]
  },
  {
   "cell_type": "code",
   "execution_count": 14,
   "metadata": {},
   "outputs": [],
   "source": [
    "def verticesFacesObj(arquivo_obj):\n",
    "  vertices = []\n",
    "  faces = []\n",
    "  with open(arquivo_obj, 'r') as dados:\n",
    "    for linha in dados.readlines():\n",
    "      linha = linha.split()\n",
    "      if len(linha) == 0: continue\n",
    "      if linha[0] == 'v':\n",
    "        v = [float(i) for i in linha[1:]]\n",
    "        vertices.append(v)\n",
    "      elif linha[0] == 'f':\n",
    "        f = [int(i)-1 for i in linha[1:]]\n",
    "        faces.append(f)\n",
    "  return {'vertices': np.array(vertices), 'faces': np.array(faces)}"
   ]
  },
  {
   "cell_type": "code",
   "execution_count": 9,
   "metadata": {},
   "outputs": [
    {
     "name": "stdout",
     "output_type": "stream",
     "text": [
      "Vertices:\n",
      " [[-0.5 -0.5  0.5]\n",
      " [ 0.5 -0.5  0.5]\n",
      " [-0.5  0.5  0.5]\n",
      " [ 0.5  0.5  0.5]\n",
      " [-0.5  0.5 -0.5]\n",
      " [ 0.5  0.5 -0.5]\n",
      " [-0.5 -0.5 -0.5]\n",
      " [ 0.5 -0.5 -0.5]]\n",
      "Faces:\n",
      " [[0 1 3]\n",
      " [0 3 2]\n",
      " [2 3 5]\n",
      " [2 5 4]\n",
      " [4 5 7]\n",
      " [4 7 6]\n",
      " [6 7 1]\n",
      " [6 1 0]\n",
      " [1 7 5]\n",
      " [1 5 3]\n",
      " [6 0 2]\n",
      " [6 2 4]]\n"
     ]
    }
   ],
   "source": [
    "# CUBO arquivo .obj\n",
    "\n",
    "obj = verticesFacesObj('./objFiles/cube.obj')\n",
    "vertices = obj['vertices']\n",
    "faces = obj['faces']\n",
    "print('Vertices:\\n', vertices)\n",
    "print('Faces:\\n', faces)"
   ]
  },
  {
   "cell_type": "code",
   "execution_count": 20,
   "metadata": {},
   "outputs": [],
   "source": [
    "ps.set_navigation_style(\"free\")\n",
    "ps.set_up_dir(\"z_up\")\n",
    "ps.look_at(camera_location=(0,-5,1), target=(0,1,1))\n",
    "\n",
    "def process(vertices, dt):\n",
    "  angulo = dt\n",
    "  vertices = animar_rotacao_y(vertices, angulo)\n",
    "  return vertices\n",
    "\n",
    "\n",
    "def main(V, F):\n",
    "  ps_mesh = ps.register_surface_mesh(\"my mesh\", V, F)\n",
    "  dt = 0\n",
    "  def callback():\n",
    "    \n",
    "    nonlocal V, dt\n",
    "    vertices = process(V, dt)\n",
    "    dt +=  0.03\n",
    "\n",
    "    ps_mesh.update_vertex_positions(vertices)\n",
    "\n",
    "  ps.set_user_callback(callback)\n",
    "  ps.show()\n",
    "\n",
    "ps.register_point_cloud(\"my points\", np.array([[0,0,1],[0,0,-2]]))\n",
    "obj = verticesFacesObj('./objFiles/cube.obj')\n",
    "vertices = obj['vertices']\n",
    "faces = obj['faces']\n",
    "main(vertices, faces)"
   ]
  },
  {
   "cell_type": "markdown",
   "metadata": {},
   "source": [
    "Animação de rotação ao longo do eixo (0,1,0)\n",
    "\n",
    "[CUBO - GIF](images_t1/video1892852990.gif)"
   ]
  },
  {
   "cell_type": "code",
   "execution_count": 32,
   "metadata": {},
   "outputs": [],
   "source": [
    "ps.set_navigation_style(\"free\")\n",
    "ps.set_up_dir(\"z_up\")\n",
    "ps.look_at(camera_location=(-300,200,200), target=(0,1,1))\n",
    "\n",
    "ps.register_point_cloud(\"my points\", np.array([[0,-100,0], [0,100,0],[-100, -100,-200]]))\n",
    "obj = verticesFacesObj('./objFiles/teapot.obj')\n",
    "vertices = obj['vertices']\n",
    "faces = obj['faces']\n",
    "main(vertices, faces)"
   ]
  },
  {
   "cell_type": "markdown",
   "metadata": {},
   "source": [
    "Animação de rotação ao longo do eixo (0,1,0) - TEAPOT!\n",
    "\n",
    "[TEAPOT - GIF](images_t1/video1104591166.gif)"
   ]
  },
  {
   "cell_type": "markdown",
   "metadata": {},
   "source": [
    "#### ESPECIFICAÇÕES - TRABALHO 1"
   ]
  },
  {
   "cell_type": "markdown",
   "metadata": {},
   "source": []
  }
 ],
 "metadata": {
  "kernelspec": {
   "display_name": "Python 3",
   "language": "python",
   "name": "python3"
  },
  "language_info": {
   "codemirror_mode": {
    "name": "ipython",
    "version": 3
   },
   "file_extension": ".py",
   "mimetype": "text/x-python",
   "name": "python",
   "nbconvert_exporter": "python",
   "pygments_lexer": "ipython3",
   "version": "3.11.1"
  }
 },
 "nbformat": 4,
 "nbformat_minor": 2
}
